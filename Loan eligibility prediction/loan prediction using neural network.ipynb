{
 "cells": [
  {
   "cell_type": "code",
   "execution_count": 1,
   "id": "0e1e2dc9",
   "metadata": {},
   "outputs": [],
   "source": [
    "import numpy as np\n",
    "import pandas as pd\n",
    "import sklearn as sns\n",
    "import seaborn as sn\n",
    "import matplotlib.pyplot as plt"
   ]
  },
  {
   "cell_type": "code",
   "execution_count": 2,
   "id": "184bb915",
   "metadata": {},
   "outputs": [],
   "source": [
    "data = pd.read_csv(\"train[1].csv\")"
   ]
  },
  {
   "cell_type": "code",
   "execution_count": 3,
   "id": "971db91d",
   "metadata": {},
   "outputs": [
    {
     "data": {
      "text/html": [
       "<div>\n",
       "<style scoped>\n",
       "    .dataframe tbody tr th:only-of-type {\n",
       "        vertical-align: middle;\n",
       "    }\n",
       "\n",
       "    .dataframe tbody tr th {\n",
       "        vertical-align: top;\n",
       "    }\n",
       "\n",
       "    .dataframe thead th {\n",
       "        text-align: right;\n",
       "    }\n",
       "</style>\n",
       "<table border=\"1\" class=\"dataframe\">\n",
       "  <thead>\n",
       "    <tr style=\"text-align: right;\">\n",
       "      <th></th>\n",
       "      <th>Loan_ID</th>\n",
       "      <th>Gender</th>\n",
       "      <th>Married</th>\n",
       "      <th>Dependents</th>\n",
       "      <th>Education</th>\n",
       "      <th>Self_Employed</th>\n",
       "      <th>ApplicantIncome</th>\n",
       "      <th>CoapplicantIncome</th>\n",
       "      <th>LoanAmount</th>\n",
       "      <th>Loan_Amount_Term</th>\n",
       "      <th>Credit_History</th>\n",
       "      <th>Property_Area</th>\n",
       "      <th>Loan_Status</th>\n",
       "    </tr>\n",
       "  </thead>\n",
       "  <tbody>\n",
       "    <tr>\n",
       "      <th>0</th>\n",
       "      <td>LP001002</td>\n",
       "      <td>Male</td>\n",
       "      <td>No</td>\n",
       "      <td>0</td>\n",
       "      <td>Graduate</td>\n",
       "      <td>No</td>\n",
       "      <td>5849</td>\n",
       "      <td>0.0</td>\n",
       "      <td>NaN</td>\n",
       "      <td>360.0</td>\n",
       "      <td>1.0</td>\n",
       "      <td>Urban</td>\n",
       "      <td>Y</td>\n",
       "    </tr>\n",
       "    <tr>\n",
       "      <th>1</th>\n",
       "      <td>LP001003</td>\n",
       "      <td>Male</td>\n",
       "      <td>Yes</td>\n",
       "      <td>1</td>\n",
       "      <td>Graduate</td>\n",
       "      <td>No</td>\n",
       "      <td>4583</td>\n",
       "      <td>1508.0</td>\n",
       "      <td>128.0</td>\n",
       "      <td>360.0</td>\n",
       "      <td>1.0</td>\n",
       "      <td>Rural</td>\n",
       "      <td>N</td>\n",
       "    </tr>\n",
       "    <tr>\n",
       "      <th>2</th>\n",
       "      <td>LP001005</td>\n",
       "      <td>Male</td>\n",
       "      <td>Yes</td>\n",
       "      <td>0</td>\n",
       "      <td>Graduate</td>\n",
       "      <td>Yes</td>\n",
       "      <td>3000</td>\n",
       "      <td>0.0</td>\n",
       "      <td>66.0</td>\n",
       "      <td>360.0</td>\n",
       "      <td>1.0</td>\n",
       "      <td>Urban</td>\n",
       "      <td>Y</td>\n",
       "    </tr>\n",
       "    <tr>\n",
       "      <th>3</th>\n",
       "      <td>LP001006</td>\n",
       "      <td>Male</td>\n",
       "      <td>Yes</td>\n",
       "      <td>0</td>\n",
       "      <td>Not Graduate</td>\n",
       "      <td>No</td>\n",
       "      <td>2583</td>\n",
       "      <td>2358.0</td>\n",
       "      <td>120.0</td>\n",
       "      <td>360.0</td>\n",
       "      <td>1.0</td>\n",
       "      <td>Urban</td>\n",
       "      <td>Y</td>\n",
       "    </tr>\n",
       "    <tr>\n",
       "      <th>4</th>\n",
       "      <td>LP001008</td>\n",
       "      <td>Male</td>\n",
       "      <td>No</td>\n",
       "      <td>0</td>\n",
       "      <td>Graduate</td>\n",
       "      <td>No</td>\n",
       "      <td>6000</td>\n",
       "      <td>0.0</td>\n",
       "      <td>141.0</td>\n",
       "      <td>360.0</td>\n",
       "      <td>1.0</td>\n",
       "      <td>Urban</td>\n",
       "      <td>Y</td>\n",
       "    </tr>\n",
       "  </tbody>\n",
       "</table>\n",
       "</div>"
      ],
      "text/plain": [
       "    Loan_ID Gender Married Dependents     Education Self_Employed  \\\n",
       "0  LP001002   Male      No          0      Graduate            No   \n",
       "1  LP001003   Male     Yes          1      Graduate            No   \n",
       "2  LP001005   Male     Yes          0      Graduate           Yes   \n",
       "3  LP001006   Male     Yes          0  Not Graduate            No   \n",
       "4  LP001008   Male      No          0      Graduate            No   \n",
       "\n",
       "   ApplicantIncome  CoapplicantIncome  LoanAmount  Loan_Amount_Term  \\\n",
       "0             5849                0.0         NaN             360.0   \n",
       "1             4583             1508.0       128.0             360.0   \n",
       "2             3000                0.0        66.0             360.0   \n",
       "3             2583             2358.0       120.0             360.0   \n",
       "4             6000                0.0       141.0             360.0   \n",
       "\n",
       "   Credit_History Property_Area Loan_Status  \n",
       "0             1.0         Urban           Y  \n",
       "1             1.0         Rural           N  \n",
       "2             1.0         Urban           Y  \n",
       "3             1.0         Urban           Y  \n",
       "4             1.0         Urban           Y  "
      ]
     },
     "execution_count": 3,
     "metadata": {},
     "output_type": "execute_result"
    }
   ],
   "source": [
    "data.head()"
   ]
  },
  {
   "cell_type": "code",
   "execution_count": 4,
   "id": "f1877d14",
   "metadata": {},
   "outputs": [
    {
     "name": "stdout",
     "output_type": "stream",
     "text": [
      "<class 'pandas.core.frame.DataFrame'>\n",
      "RangeIndex: 614 entries, 0 to 613\n",
      "Data columns (total 13 columns):\n",
      " #   Column             Non-Null Count  Dtype  \n",
      "---  ------             --------------  -----  \n",
      " 0   Loan_ID            614 non-null    object \n",
      " 1   Gender             601 non-null    object \n",
      " 2   Married            611 non-null    object \n",
      " 3   Dependents         599 non-null    object \n",
      " 4   Education          614 non-null    object \n",
      " 5   Self_Employed      582 non-null    object \n",
      " 6   ApplicantIncome    614 non-null    int64  \n",
      " 7   CoapplicantIncome  614 non-null    float64\n",
      " 8   LoanAmount         592 non-null    float64\n",
      " 9   Loan_Amount_Term   600 non-null    float64\n",
      " 10  Credit_History     564 non-null    float64\n",
      " 11  Property_Area      614 non-null    object \n",
      " 12  Loan_Status        614 non-null    object \n",
      "dtypes: float64(4), int64(1), object(8)\n",
      "memory usage: 62.5+ KB\n"
     ]
    }
   ],
   "source": [
    "data.info()"
   ]
  },
  {
   "cell_type": "code",
   "execution_count": 5,
   "id": "2dd2b88e",
   "metadata": {},
   "outputs": [
    {
     "data": {
      "text/plain": [
       "(614, 13)"
      ]
     },
     "execution_count": 5,
     "metadata": {},
     "output_type": "execute_result"
    }
   ],
   "source": [
    "data.shape"
   ]
  },
  {
   "cell_type": "code",
   "execution_count": 6,
   "id": "3e7395d2",
   "metadata": {},
   "outputs": [
    {
     "data": {
      "text/plain": [
       "Index(['Loan_ID', 'Gender', 'Married', 'Dependents', 'Education',\n",
       "       'Self_Employed', 'ApplicantIncome', 'CoapplicantIncome', 'LoanAmount',\n",
       "       'Loan_Amount_Term', 'Credit_History', 'Property_Area', 'Loan_Status'],\n",
       "      dtype='object')"
      ]
     },
     "execution_count": 6,
     "metadata": {},
     "output_type": "execute_result"
    }
   ],
   "source": [
    "data.columns"
   ]
  },
  {
   "cell_type": "code",
   "execution_count": 7,
   "id": "88e59fcb",
   "metadata": {},
   "outputs": [
    {
     "data": {
      "text/plain": [
       "Index(['Dependents', 'Education', 'Self_Employed', 'ApplicantIncome',\n",
       "       'CoapplicantIncome', 'LoanAmount', 'Loan_Amount_Term', 'Credit_History',\n",
       "       'Property_Area', 'Loan_Status'],\n",
       "      dtype='object')"
      ]
     },
     "execution_count": 7,
     "metadata": {},
     "output_type": "execute_result"
    }
   ],
   "source": [
    "data.drop([\"Gender\",\"Married\",\"Loan_ID\"], axis=1,  inplace= True)\n",
    "data.columns"
   ]
  },
  {
   "cell_type": "code",
   "execution_count": 8,
   "id": "7eca99e1",
   "metadata": {},
   "outputs": [
    {
     "name": "stderr",
     "output_type": "stream",
     "text": [
      "C:\\Users\\91999\\AppData\\Local\\Temp/ipykernel_1736/1176009858.py:1: FutureWarning: The default value of regex will change from True to False in a future version. In addition, single character regular expressions will *not* be treated as literal strings when regex=True.\n",
      "  data[\"Dependents\"] = data[\"Dependents\"].str.replace('+','')\n"
     ]
    }
   ],
   "source": [
    "data[\"Dependents\"] = data[\"Dependents\"].str.replace('+','')"
   ]
  },
  {
   "cell_type": "code",
   "execution_count": 9,
   "id": "cc4922eb",
   "metadata": {},
   "outputs": [
    {
     "data": {
      "text/html": [
       "<div>\n",
       "<style scoped>\n",
       "    .dataframe tbody tr th:only-of-type {\n",
       "        vertical-align: middle;\n",
       "    }\n",
       "\n",
       "    .dataframe tbody tr th {\n",
       "        vertical-align: top;\n",
       "    }\n",
       "\n",
       "    .dataframe thead th {\n",
       "        text-align: right;\n",
       "    }\n",
       "</style>\n",
       "<table border=\"1\" class=\"dataframe\">\n",
       "  <thead>\n",
       "    <tr style=\"text-align: right;\">\n",
       "      <th></th>\n",
       "      <th>Dependents</th>\n",
       "      <th>Education</th>\n",
       "      <th>Self_Employed</th>\n",
       "      <th>ApplicantIncome</th>\n",
       "      <th>CoapplicantIncome</th>\n",
       "      <th>LoanAmount</th>\n",
       "      <th>Loan_Amount_Term</th>\n",
       "      <th>Credit_History</th>\n",
       "      <th>Property_Area</th>\n",
       "      <th>Loan_Status</th>\n",
       "    </tr>\n",
       "  </thead>\n",
       "  <tbody>\n",
       "    <tr>\n",
       "      <th>0</th>\n",
       "      <td>0</td>\n",
       "      <td>Graduate</td>\n",
       "      <td>No</td>\n",
       "      <td>5849</td>\n",
       "      <td>0.0</td>\n",
       "      <td>NaN</td>\n",
       "      <td>360.0</td>\n",
       "      <td>1.0</td>\n",
       "      <td>Urban</td>\n",
       "      <td>Y</td>\n",
       "    </tr>\n",
       "    <tr>\n",
       "      <th>1</th>\n",
       "      <td>1</td>\n",
       "      <td>Graduate</td>\n",
       "      <td>No</td>\n",
       "      <td>4583</td>\n",
       "      <td>1508.0</td>\n",
       "      <td>128.0</td>\n",
       "      <td>360.0</td>\n",
       "      <td>1.0</td>\n",
       "      <td>Rural</td>\n",
       "      <td>N</td>\n",
       "    </tr>\n",
       "    <tr>\n",
       "      <th>2</th>\n",
       "      <td>0</td>\n",
       "      <td>Graduate</td>\n",
       "      <td>Yes</td>\n",
       "      <td>3000</td>\n",
       "      <td>0.0</td>\n",
       "      <td>66.0</td>\n",
       "      <td>360.0</td>\n",
       "      <td>1.0</td>\n",
       "      <td>Urban</td>\n",
       "      <td>Y</td>\n",
       "    </tr>\n",
       "    <tr>\n",
       "      <th>3</th>\n",
       "      <td>0</td>\n",
       "      <td>Not Graduate</td>\n",
       "      <td>No</td>\n",
       "      <td>2583</td>\n",
       "      <td>2358.0</td>\n",
       "      <td>120.0</td>\n",
       "      <td>360.0</td>\n",
       "      <td>1.0</td>\n",
       "      <td>Urban</td>\n",
       "      <td>Y</td>\n",
       "    </tr>\n",
       "    <tr>\n",
       "      <th>4</th>\n",
       "      <td>0</td>\n",
       "      <td>Graduate</td>\n",
       "      <td>No</td>\n",
       "      <td>6000</td>\n",
       "      <td>0.0</td>\n",
       "      <td>141.0</td>\n",
       "      <td>360.0</td>\n",
       "      <td>1.0</td>\n",
       "      <td>Urban</td>\n",
       "      <td>Y</td>\n",
       "    </tr>\n",
       "  </tbody>\n",
       "</table>\n",
       "</div>"
      ],
      "text/plain": [
       "  Dependents     Education Self_Employed  ApplicantIncome  CoapplicantIncome  \\\n",
       "0          0      Graduate            No             5849                0.0   \n",
       "1          1      Graduate            No             4583             1508.0   \n",
       "2          0      Graduate           Yes             3000                0.0   \n",
       "3          0  Not Graduate            No             2583             2358.0   \n",
       "4          0      Graduate            No             6000                0.0   \n",
       "\n",
       "   LoanAmount  Loan_Amount_Term  Credit_History Property_Area Loan_Status  \n",
       "0         NaN             360.0             1.0         Urban           Y  \n",
       "1       128.0             360.0             1.0         Rural           N  \n",
       "2        66.0             360.0             1.0         Urban           Y  \n",
       "3       120.0             360.0             1.0         Urban           Y  \n",
       "4       141.0             360.0             1.0         Urban           Y  "
      ]
     },
     "execution_count": 9,
     "metadata": {},
     "output_type": "execute_result"
    }
   ],
   "source": [
    "data.head()"
   ]
  },
  {
   "cell_type": "code",
   "execution_count": 10,
   "id": "00901b4a",
   "metadata": {},
   "outputs": [
    {
     "data": {
      "text/plain": [
       "Dependents           15\n",
       "Education             0\n",
       "Self_Employed        32\n",
       "ApplicantIncome       0\n",
       "CoapplicantIncome     0\n",
       "LoanAmount           22\n",
       "Loan_Amount_Term     14\n",
       "Credit_History       50\n",
       "Property_Area         0\n",
       "Loan_Status           0\n",
       "dtype: int64"
      ]
     },
     "execution_count": 10,
     "metadata": {},
     "output_type": "execute_result"
    }
   ],
   "source": [
    "data.isna().sum()"
   ]
  },
  {
   "cell_type": "code",
   "execution_count": 11,
   "id": "5cfc072b",
   "metadata": {},
   "outputs": [
    {
     "data": {
      "image/png": "[encoded data removed]",
      "text/plain": [
       "<Figure size 720x288 with 1 Axes>"
      ]
     },
     "metadata": {
      "needs_background": "light"
     },
     "output_type": "display_data"
    }
   ],
   "source": [
    "plt.figure(figsize = (10,4))\n",
    "sn.boxplot(x = 'LoanAmount',\n",
    "            data = data,\n",
    "            orient = 'horizontal')\n",
    "plt.show()"
   ]
  },
  {
   "cell_type": "code",
   "execution_count": 12,
   "id": "5f876f71",
   "metadata": {},
   "outputs": [],
   "source": [
    "data[\"Dependents\"].fillna(data[\"Dependents\"].mode()[0],inplace = True)"
   ]
  },
  {
   "cell_type": "code",
   "execution_count": 13,
   "id": "ae57779a",
   "metadata": {},
   "outputs": [],
   "source": [
    "data[\"Self_Employed\"].fillna(data[\"Self_Employed\"].mode()[0],inplace = True)"
   ]
  },
  {
   "cell_type": "code",
   "execution_count": 14,
   "id": "08e8457c",
   "metadata": {},
   "outputs": [],
   "source": [
    "data[\"LoanAmount\"].fillna(data[\"LoanAmount\"].mean(),inplace = True)"
   ]
  },
  {
   "cell_type": "code",
   "execution_count": 15,
   "id": "7e5ee42b",
   "metadata": {},
   "outputs": [],
   "source": [
    "data[\"Loan_Amount_Term\"].fillna(data[\"Loan_Amount_Term\"].mean(),inplace = True)"
   ]
  },
  {
   "cell_type": "code",
   "execution_count": 16,
   "id": "e8049f0e",
   "metadata": {},
   "outputs": [],
   "source": [
    "data[\"Credit_History\"].fillna(data[\"Credit_History\"].mean(),inplace = True)"
   ]
  },
  {
   "cell_type": "code",
   "execution_count": 17,
   "id": "038012dd",
   "metadata": {},
   "outputs": [
    {
     "data": {
      "text/plain": [
       "Dependents           0\n",
       "Education            0\n",
       "Self_Employed        0\n",
       "ApplicantIncome      0\n",
       "CoapplicantIncome    0\n",
       "LoanAmount           0\n",
       "Loan_Amount_Term     0\n",
       "Credit_History       0\n",
       "Property_Area        0\n",
       "Loan_Status          0\n",
       "dtype: int64"
      ]
     },
     "execution_count": 17,
     "metadata": {},
     "output_type": "execute_result"
    }
   ],
   "source": [
    "data.isna().sum()"
   ]
  },
  {
   "cell_type": "code",
   "execution_count": 18,
   "id": "fc91ebf0",
   "metadata": {},
   "outputs": [
    {
     "data": {
      "text/html": [
       "<div>\n",
       "<style scoped>\n",
       "    .dataframe tbody tr th:only-of-type {\n",
       "        vertical-align: middle;\n",
       "    }\n",
       "\n",
       "    .dataframe tbody tr th {\n",
       "        vertical-align: top;\n",
       "    }\n",
       "\n",
       "    .dataframe thead th {\n",
       "        text-align: right;\n",
       "    }\n",
       "</style>\n",
       "<table border=\"1\" class=\"dataframe\">\n",
       "  <thead>\n",
       "    <tr style=\"text-align: right;\">\n",
       "      <th></th>\n",
       "      <th>Dependents</th>\n",
       "      <th>Education</th>\n",
       "      <th>Self_Employed</th>\n",
       "      <th>ApplicantIncome</th>\n",
       "      <th>CoapplicantIncome</th>\n",
       "      <th>LoanAmount</th>\n",
       "      <th>Loan_Amount_Term</th>\n",
       "      <th>Credit_History</th>\n",
       "      <th>Property_Area</th>\n",
       "      <th>Loan_Status</th>\n",
       "    </tr>\n",
       "  </thead>\n",
       "  <tbody>\n",
       "    <tr>\n",
       "      <th>0</th>\n",
       "      <td>0</td>\n",
       "      <td>Graduate</td>\n",
       "      <td>No</td>\n",
       "      <td>5849</td>\n",
       "      <td>0.0</td>\n",
       "      <td>146.412162</td>\n",
       "      <td>360.0</td>\n",
       "      <td>1.0</td>\n",
       "      <td>Urban</td>\n",
       "      <td>Y</td>\n",
       "    </tr>\n",
       "    <tr>\n",
       "      <th>1</th>\n",
       "      <td>1</td>\n",
       "      <td>Graduate</td>\n",
       "      <td>No</td>\n",
       "      <td>4583</td>\n",
       "      <td>1508.0</td>\n",
       "      <td>128.000000</td>\n",
       "      <td>360.0</td>\n",
       "      <td>1.0</td>\n",
       "      <td>Rural</td>\n",
       "      <td>N</td>\n",
       "    </tr>\n",
       "    <tr>\n",
       "      <th>2</th>\n",
       "      <td>0</td>\n",
       "      <td>Graduate</td>\n",
       "      <td>Yes</td>\n",
       "      <td>3000</td>\n",
       "      <td>0.0</td>\n",
       "      <td>66.000000</td>\n",
       "      <td>360.0</td>\n",
       "      <td>1.0</td>\n",
       "      <td>Urban</td>\n",
       "      <td>Y</td>\n",
       "    </tr>\n",
       "    <tr>\n",
       "      <th>3</th>\n",
       "      <td>0</td>\n",
       "      <td>Not Graduate</td>\n",
       "      <td>No</td>\n",
       "      <td>2583</td>\n",
       "      <td>2358.0</td>\n",
       "      <td>120.000000</td>\n",
       "      <td>360.0</td>\n",
       "      <td>1.0</td>\n",
       "      <td>Urban</td>\n",
       "      <td>Y</td>\n",
       "    </tr>\n",
       "    <tr>\n",
       "      <th>4</th>\n",
       "      <td>0</td>\n",
       "      <td>Graduate</td>\n",
       "      <td>No</td>\n",
       "      <td>6000</td>\n",
       "      <td>0.0</td>\n",
       "      <td>141.000000</td>\n",
       "      <td>360.0</td>\n",
       "      <td>1.0</td>\n",
       "      <td>Urban</td>\n",
       "      <td>Y</td>\n",
       "    </tr>\n",
       "  </tbody>\n",
       "</table>\n",
       "</div>"
      ],
      "text/plain": [
       "  Dependents     Education Self_Employed  ApplicantIncome  CoapplicantIncome  \\\n",
       "0          0      Graduate            No             5849                0.0   \n",
       "1          1      Graduate            No             4583             1508.0   \n",
       "2          0      Graduate           Yes             3000                0.0   \n",
       "3          0  Not Graduate            No             2583             2358.0   \n",
       "4          0      Graduate            No             6000                0.0   \n",
       "\n",
       "   LoanAmount  Loan_Amount_Term  Credit_History Property_Area Loan_Status  \n",
       "0  146.412162             360.0             1.0         Urban           Y  \n",
       "1  128.000000             360.0             1.0         Rural           N  \n",
       "2   66.000000             360.0             1.0         Urban           Y  \n",
       "3  120.000000             360.0             1.0         Urban           Y  \n",
       "4  141.000000             360.0             1.0         Urban           Y  "
      ]
     },
     "execution_count": 18,
     "metadata": {},
     "output_type": "execute_result"
    }
   ],
   "source": [
    "data.head()"
   ]
  },
  {
   "cell_type": "code",
   "execution_count": 19,
   "id": "2322c193",
   "metadata": {},
   "outputs": [],
   "source": [
    "data.replace({'Self_Employed':{'No':0,'Yes':1},\n",
    "              'Education':{'Graduate':1,'Not Graduate':0},\n",
    "              'Property_Area':{'Rural':0,'Semiurban':1,'Urban':2},\n",
    "             'Loan_Status':{'Y':1, 'N':0}}, inplace=True)"
   ]
  },
  {
   "cell_type": "code",
   "execution_count": 20,
   "id": "28f64a09",
   "metadata": {},
   "outputs": [
    {
     "name": "stdout",
     "output_type": "stream",
     "text": [
      "<class 'pandas.core.frame.DataFrame'>\n",
      "RangeIndex: 614 entries, 0 to 613\n",
      "Data columns (total 10 columns):\n",
      " #   Column             Non-Null Count  Dtype  \n",
      "---  ------             --------------  -----  \n",
      " 0   Dependents         614 non-null    object \n",
      " 1   Education          614 non-null    int64  \n",
      " 2   Self_Employed      614 non-null    int64  \n",
      " 3   ApplicantIncome    614 non-null    int64  \n",
      " 4   CoapplicantIncome  614 non-null    float64\n",
      " 5   LoanAmount         614 non-null    float64\n",
      " 6   Loan_Amount_Term   614 non-null    float64\n",
      " 7   Credit_History     614 non-null    float64\n",
      " 8   Property_Area      614 non-null    int64  \n",
      " 9   Loan_Status        614 non-null    int64  \n",
      "dtypes: float64(4), int64(5), object(1)\n",
      "memory usage: 48.1+ KB\n"
     ]
    }
   ],
   "source": [
    "data.info()"
   ]
  },
  {
   "cell_type": "code",
   "execution_count": 21,
   "id": "fc282cc3",
   "metadata": {},
   "outputs": [
    {
     "data": {
      "text/html": [
       "<div>\n",
       "<style scoped>\n",
       "    .dataframe tbody tr th:only-of-type {\n",
       "        vertical-align: middle;\n",
       "    }\n",
       "\n",
       "    .dataframe tbody tr th {\n",
       "        vertical-align: top;\n",
       "    }\n",
       "\n",
       "    .dataframe thead th {\n",
       "        text-align: right;\n",
       "    }\n",
       "</style>\n",
       "<table border=\"1\" class=\"dataframe\">\n",
       "  <thead>\n",
       "    <tr style=\"text-align: right;\">\n",
       "      <th></th>\n",
       "      <th>Dependents</th>\n",
       "      <th>Education</th>\n",
       "      <th>Self_Employed</th>\n",
       "      <th>ApplicantIncome</th>\n",
       "      <th>CoapplicantIncome</th>\n",
       "      <th>LoanAmount</th>\n",
       "      <th>Loan_Amount_Term</th>\n",
       "      <th>Credit_History</th>\n",
       "      <th>Property_Area</th>\n",
       "      <th>Loan_Status</th>\n",
       "    </tr>\n",
       "  </thead>\n",
       "  <tbody>\n",
       "    <tr>\n",
       "      <th>0</th>\n",
       "      <td>0</td>\n",
       "      <td>1</td>\n",
       "      <td>0</td>\n",
       "      <td>5849</td>\n",
       "      <td>0.0</td>\n",
       "      <td>146.412162</td>\n",
       "      <td>360.0</td>\n",
       "      <td>1.0</td>\n",
       "      <td>2</td>\n",
       "      <td>1</td>\n",
       "    </tr>\n",
       "    <tr>\n",
       "      <th>1</th>\n",
       "      <td>1</td>\n",
       "      <td>1</td>\n",
       "      <td>0</td>\n",
       "      <td>4583</td>\n",
       "      <td>1508.0</td>\n",
       "      <td>128.000000</td>\n",
       "      <td>360.0</td>\n",
       "      <td>1.0</td>\n",
       "      <td>0</td>\n",
       "      <td>0</td>\n",
       "    </tr>\n",
       "    <tr>\n",
       "      <th>2</th>\n",
       "      <td>0</td>\n",
       "      <td>1</td>\n",
       "      <td>1</td>\n",
       "      <td>3000</td>\n",
       "      <td>0.0</td>\n",
       "      <td>66.000000</td>\n",
       "      <td>360.0</td>\n",
       "      <td>1.0</td>\n",
       "      <td>2</td>\n",
       "      <td>1</td>\n",
       "    </tr>\n",
       "    <tr>\n",
       "      <th>3</th>\n",
       "      <td>0</td>\n",
       "      <td>0</td>\n",
       "      <td>0</td>\n",
       "      <td>2583</td>\n",
       "      <td>2358.0</td>\n",
       "      <td>120.000000</td>\n",
       "      <td>360.0</td>\n",
       "      <td>1.0</td>\n",
       "      <td>2</td>\n",
       "      <td>1</td>\n",
       "    </tr>\n",
       "    <tr>\n",
       "      <th>4</th>\n",
       "      <td>0</td>\n",
       "      <td>1</td>\n",
       "      <td>0</td>\n",
       "      <td>6000</td>\n",
       "      <td>0.0</td>\n",
       "      <td>141.000000</td>\n",
       "      <td>360.0</td>\n",
       "      <td>1.0</td>\n",
       "      <td>2</td>\n",
       "      <td>1</td>\n",
       "    </tr>\n",
       "  </tbody>\n",
       "</table>\n",
       "</div>"
      ],
      "text/plain": [
       "  Dependents  Education  Self_Employed  ApplicantIncome  CoapplicantIncome  \\\n",
       "0          0          1              0             5849                0.0   \n",
       "1          1          1              0             4583             1508.0   \n",
       "2          0          1              1             3000                0.0   \n",
       "3          0          0              0             2583             2358.0   \n",
       "4          0          1              0             6000                0.0   \n",
       "\n",
       "   LoanAmount  Loan_Amount_Term  Credit_History  Property_Area  Loan_Status  \n",
       "0  146.412162             360.0             1.0              2            1  \n",
       "1  128.000000             360.0             1.0              0            0  \n",
       "2   66.000000             360.0             1.0              2            1  \n",
       "3  120.000000             360.0             1.0              2            1  \n",
       "4  141.000000             360.0             1.0              2            1  "
      ]
     },
     "execution_count": 21,
     "metadata": {},
     "output_type": "execute_result"
    }
   ],
   "source": [
    "data.head()"
   ]
  },
  {
   "cell_type": "code",
   "execution_count": 22,
   "id": "def80f9f",
   "metadata": {},
   "outputs": [
    {
     "name": "stdout",
     "output_type": "stream",
     "text": [
      "<class 'pandas.core.frame.DataFrame'>\n",
      "RangeIndex: 614 entries, 0 to 613\n",
      "Data columns (total 10 columns):\n",
      " #   Column             Non-Null Count  Dtype  \n",
      "---  ------             --------------  -----  \n",
      " 0   Dependents         614 non-null    object \n",
      " 1   Education          614 non-null    int64  \n",
      " 2   Self_Employed      614 non-null    int64  \n",
      " 3   ApplicantIncome    614 non-null    int64  \n",
      " 4   CoapplicantIncome  614 non-null    float64\n",
      " 5   LoanAmount         614 non-null    float64\n",
      " 6   Loan_Amount_Term   614 non-null    float64\n",
      " 7   Credit_History     614 non-null    float64\n",
      " 8   Property_Area      614 non-null    int64  \n",
      " 9   Loan_Status        614 non-null    int64  \n",
      "dtypes: float64(4), int64(5), object(1)\n",
      "memory usage: 48.1+ KB\n"
     ]
    }
   ],
   "source": [
    "data.info()"
   ]
  },
  {
   "cell_type": "code",
   "execution_count": 23,
   "id": "9df5ecce",
   "metadata": {},
   "outputs": [],
   "source": [
    "data[\"Dependents\"]=pd.to_numeric(data[\"Dependents\"],errors='coerce')"
   ]
  },
  {
   "cell_type": "code",
   "execution_count": 24,
   "id": "c0716681",
   "metadata": {},
   "outputs": [
    {
     "name": "stdout",
     "output_type": "stream",
     "text": [
      "<class 'pandas.core.frame.DataFrame'>\n",
      "RangeIndex: 614 entries, 0 to 613\n",
      "Data columns (total 10 columns):\n",
      " #   Column             Non-Null Count  Dtype  \n",
      "---  ------             --------------  -----  \n",
      " 0   Dependents         614 non-null    int64  \n",
      " 1   Education          614 non-null    int64  \n",
      " 2   Self_Employed      614 non-null    int64  \n",
      " 3   ApplicantIncome    614 non-null    int64  \n",
      " 4   CoapplicantIncome  614 non-null    float64\n",
      " 5   LoanAmount         614 non-null    float64\n",
      " 6   Loan_Amount_Term   614 non-null    float64\n",
      " 7   Credit_History     614 non-null    float64\n",
      " 8   Property_Area      614 non-null    int64  \n",
      " 9   Loan_Status        614 non-null    int64  \n",
      "dtypes: float64(4), int64(6)\n",
      "memory usage: 48.1 KB\n"
     ]
    }
   ],
   "source": [
    "data.info()"
   ]
  },
  {
   "cell_type": "code",
   "execution_count": 25,
   "id": "ed16830f",
   "metadata": {},
   "outputs": [
    {
     "data": {
      "text/html": [
       "<div>\n",
       "<style scoped>\n",
       "    .dataframe tbody tr th:only-of-type {\n",
       "        vertical-align: middle;\n",
       "    }\n",
       "\n",
       "    .dataframe tbody tr th {\n",
       "        vertical-align: top;\n",
       "    }\n",
       "\n",
       "    .dataframe thead th {\n",
       "        text-align: right;\n",
       "    }\n",
       "</style>\n",
       "<table border=\"1\" class=\"dataframe\">\n",
       "  <thead>\n",
       "    <tr style=\"text-align: right;\">\n",
       "      <th></th>\n",
       "      <th>Dependents</th>\n",
       "      <th>Education</th>\n",
       "      <th>Self_Employed</th>\n",
       "      <th>ApplicantIncome</th>\n",
       "      <th>CoapplicantIncome</th>\n",
       "      <th>LoanAmount</th>\n",
       "      <th>Loan_Amount_Term</th>\n",
       "      <th>Credit_History</th>\n",
       "      <th>Property_Area</th>\n",
       "      <th>Loan_Status</th>\n",
       "    </tr>\n",
       "  </thead>\n",
       "  <tbody>\n",
       "    <tr>\n",
       "      <th>0</th>\n",
       "      <td>0</td>\n",
       "      <td>1</td>\n",
       "      <td>0</td>\n",
       "      <td>5849</td>\n",
       "      <td>0.0</td>\n",
       "      <td>146.412162</td>\n",
       "      <td>360.0</td>\n",
       "      <td>1.0</td>\n",
       "      <td>2</td>\n",
       "      <td>1</td>\n",
       "    </tr>\n",
       "    <tr>\n",
       "      <th>1</th>\n",
       "      <td>1</td>\n",
       "      <td>1</td>\n",
       "      <td>0</td>\n",
       "      <td>4583</td>\n",
       "      <td>1508.0</td>\n",
       "      <td>128.000000</td>\n",
       "      <td>360.0</td>\n",
       "      <td>1.0</td>\n",
       "      <td>0</td>\n",
       "      <td>0</td>\n",
       "    </tr>\n",
       "    <tr>\n",
       "      <th>2</th>\n",
       "      <td>0</td>\n",
       "      <td>1</td>\n",
       "      <td>1</td>\n",
       "      <td>3000</td>\n",
       "      <td>0.0</td>\n",
       "      <td>66.000000</td>\n",
       "      <td>360.0</td>\n",
       "      <td>1.0</td>\n",
       "      <td>2</td>\n",
       "      <td>1</td>\n",
       "    </tr>\n",
       "    <tr>\n",
       "      <th>3</th>\n",
       "      <td>0</td>\n",
       "      <td>0</td>\n",
       "      <td>0</td>\n",
       "      <td>2583</td>\n",
       "      <td>2358.0</td>\n",
       "      <td>120.000000</td>\n",
       "      <td>360.0</td>\n",
       "      <td>1.0</td>\n",
       "      <td>2</td>\n",
       "      <td>1</td>\n",
       "    </tr>\n",
       "    <tr>\n",
       "      <th>4</th>\n",
       "      <td>0</td>\n",
       "      <td>1</td>\n",
       "      <td>0</td>\n",
       "      <td>6000</td>\n",
       "      <td>0.0</td>\n",
       "      <td>141.000000</td>\n",
       "      <td>360.0</td>\n",
       "      <td>1.0</td>\n",
       "      <td>2</td>\n",
       "      <td>1</td>\n",
       "    </tr>\n",
       "  </tbody>\n",
       "</table>\n",
       "</div>"
      ],
      "text/plain": [
       "   Dependents  Education  Self_Employed  ApplicantIncome  CoapplicantIncome  \\\n",
       "0           0          1              0             5849                0.0   \n",
       "1           1          1              0             4583             1508.0   \n",
       "2           0          1              1             3000                0.0   \n",
       "3           0          0              0             2583             2358.0   \n",
       "4           0          1              0             6000                0.0   \n",
       "\n",
       "   LoanAmount  Loan_Amount_Term  Credit_History  Property_Area  Loan_Status  \n",
       "0  146.412162             360.0             1.0              2            1  \n",
       "1  128.000000             360.0             1.0              0            0  \n",
       "2   66.000000             360.0             1.0              2            1  \n",
       "3  120.000000             360.0             1.0              2            1  \n",
       "4  141.000000             360.0             1.0              2            1  "
      ]
     },
     "execution_count": 25,
     "metadata": {},
     "output_type": "execute_result"
    }
   ],
   "source": [
    "data.head()"
   ]
  },
  {
   "cell_type": "code",
   "execution_count": 26,
   "id": "8414bd24",
   "metadata": {},
   "outputs": [],
   "source": [
    "for i in data.columns[1:]:\n",
    "    data[i] = (data[i] - data[i].min()) / (data[i].max() - data[i].min())"
   ]
  },
  {
   "cell_type": "code",
   "execution_count": 27,
   "id": "7969ce44",
   "metadata": {},
   "outputs": [],
   "source": [
    "X = data.drop(columns=['Loan_Status'],axis=1)\n",
    "y = data['Loan_Status']"
   ]
  },
  {
   "cell_type": "code",
   "execution_count": 28,
   "id": "d8400006",
   "metadata": {},
   "outputs": [
    {
     "data": {
      "text/plain": [
       "(614, 9)"
      ]
     },
     "execution_count": 28,
     "metadata": {},
     "output_type": "execute_result"
    }
   ],
   "source": [
    "X.shape"
   ]
  },
  {
   "cell_type": "code",
   "execution_count": 29,
   "id": "882ad7c0",
   "metadata": {},
   "outputs": [
    {
     "data": {
      "text/plain": [
       "(614,)"
      ]
     },
     "execution_count": 29,
     "metadata": {},
     "output_type": "execute_result"
    }
   ],
   "source": [
    "y.shape"
   ]
  },
  {
   "cell_type": "code",
   "execution_count": 30,
   "id": "dbeab30c",
   "metadata": {},
   "outputs": [],
   "source": [
    "# Testing Data - 10%\n",
    "from sklearn.model_selection import train_test_split\n",
    "X_train, X_test, y_train, y_test = train_test_split(X, y, test_size = 0.3, stratify=data['Loan_Status'], random_state = 42)\n",
    "# Train & Valid Data - 90%\n",
    "#x_train, x_val, y_train, y_val = train_test_split(X_train, y_train, test_size = 0.2, stratify = y_train, random_state = 42)"
   ]
  },
  {
   "cell_type": "code",
   "execution_count": 31,
   "id": "35b2cc5f",
   "metadata": {},
   "outputs": [
    {
     "data": {
      "text/plain": [
       "(429, 9)"
      ]
     },
     "execution_count": 31,
     "metadata": {},
     "output_type": "execute_result"
    }
   ],
   "source": [
    "X_train.shape"
   ]
  },
  {
   "cell_type": "code",
   "execution_count": 32,
   "id": "2c83d873",
   "metadata": {},
   "outputs": [
    {
     "data": {
      "text/plain": [
       "(429,)"
      ]
     },
     "execution_count": 32,
     "metadata": {},
     "output_type": "execute_result"
    }
   ],
   "source": [
    "y_train.shape"
   ]
  },
  {
   "cell_type": "code",
   "execution_count": 33,
   "id": "ebc13bf7",
   "metadata": {},
   "outputs": [
    {
     "data": {
      "text/plain": [
       "(185, 9)"
      ]
     },
     "execution_count": 33,
     "metadata": {},
     "output_type": "execute_result"
    }
   ],
   "source": [
    "X_test.shape"
   ]
  },
  {
   "cell_type": "code",
   "execution_count": 34,
   "id": "10c23034",
   "metadata": {},
   "outputs": [
    {
     "data": {
      "text/plain": [
       "(185,)"
      ]
     },
     "execution_count": 34,
     "metadata": {},
     "output_type": "execute_result"
    }
   ],
   "source": [
    "y_test.shape"
   ]
  },
  {
   "cell_type": "code",
   "execution_count": 35,
   "id": "3e2bc0ef",
   "metadata": {},
   "outputs": [],
   "source": [
    "# Creating a skeleton of model.\n",
    "\n",
    "from tensorflow import keras\n",
    "\n",
    "from keras.models import Sequential\n",
    "# Defining layers\n",
    "from keras.layers import Input, Dense"
   ]
  },
  {
   "cell_type": "code",
   "execution_count": 36,
   "id": "24012112",
   "metadata": {},
   "outputs": [
    {
     "data": {
      "text/plain": [
       "9"
      ]
     },
     "execution_count": 36,
     "metadata": {},
     "output_type": "execute_result"
    }
   ],
   "source": [
    "X_train.shape[1]"
   ]
  },
  {
   "cell_type": "code",
   "execution_count": 37,
   "id": "da6b92d1",
   "metadata": {},
   "outputs": [],
   "source": [
    "from tensorflow.keras.layers import InputLayer\n",
    "\n",
    "# Input neurons\n",
    "input_neurons = (None,X_train.shape[1])\n",
    "# Output neurons (Since it is binary classification)\n",
    "output_neurons = 1\n",
    "# Defining hidden layers & neurons in each layersnumber_of_hidden_layers = 2\n",
    "neuron_hidden_layer_1         = 10\n",
    "neuron_hidden_layer_2         = 5\n",
    "# Defining the architecture of the model\n",
    "model = Sequential()\n",
    "model.add(InputLayer(input_shape=(input_neurons)))\n",
    "model.add(Dense(units=neuron_hidden_layer_1, activation='relu'))\n",
    "model.add(Dense(units=neuron_hidden_layer_2, activation='relu'))\n",
    "model.add(Dense(units=output_neurons, activation='sigmoid'))"
   ]
  },
  {
   "cell_type": "code",
   "execution_count": 38,
   "id": "2d824324",
   "metadata": {},
   "outputs": [],
   "source": [
    "#Compiling the model\n",
    "model.compile(loss='binary_crossentropy',optimizer='Adam',metrics=['accuracy'])"
   ]
  },
  {
   "cell_type": "code",
   "execution_count": 39,
   "id": "72ebbd04",
   "metadata": {},
   "outputs": [
    {
     "name": "stdout",
     "output_type": "stream",
     "text": [
      "Epoch 1/90\n",
      "WARNING:tensorflow:Model was constructed with shape (None, None, 9) for input KerasTensor(type_spec=TensorSpec(shape=(None, None, 9), dtype=tf.float32, name='input_1'), name='input_1', description=\"created by layer 'input_1'\"), but it was called on an input with incompatible shape (None, 9).\n",
      "WARNING:tensorflow:Model was constructed with shape (None, None, 9) for input KerasTensor(type_spec=TensorSpec(shape=(None, None, 9), dtype=tf.float32, name='input_1'), name='input_1', description=\"created by layer 'input_1'\"), but it was called on an input with incompatible shape (None, 9).\n",
      "14/14 [==============================] - 0s 847us/step - loss: 0.8274 - accuracy: 0.2821\n",
      "Epoch 2/90\n",
      "14/14 [==============================] - 0s 615us/step - loss: 0.7719 - accuracy: 0.3007\n",
      "Epoch 3/90\n",
      "14/14 [==============================] - 0s 616us/step - loss: 0.7351 - accuracy: 0.3869\n",
      "Epoch 4/90\n",
      "14/14 [==============================] - 0s 616us/step - loss: 0.7092 - accuracy: 0.4359\n",
      "Epoch 5/90\n",
      "14/14 [==============================] - 0s 692us/step - loss: 0.6918 - accuracy: 0.5641\n",
      "Epoch 6/90\n",
      "14/14 [==============================] - 0s 692us/step - loss: 0.6806 - accuracy: 0.6737\n",
      "Epoch 7/90\n",
      "14/14 [==============================] - 0s 692us/step - loss: 0.6723 - accuracy: 0.6783\n",
      "Epoch 8/90\n",
      "14/14 [==============================] - 0s 616us/step - loss: 0.6642 - accuracy: 0.6760\n",
      "Epoch 9/90\n",
      "14/14 [==============================] - 0s 692us/step - loss: 0.6554 - accuracy: 0.6830\n",
      "Epoch 10/90\n",
      "14/14 [==============================] - 0s 692us/step - loss: 0.6446 - accuracy: 0.6853\n",
      "Epoch 11/90\n",
      "14/14 [==============================] - 0s 769us/step - loss: 0.6340 - accuracy: 0.6876\n",
      "Epoch 12/90\n",
      "14/14 [==============================] - 0s 692us/step - loss: 0.6238 - accuracy: 0.6900\n",
      "Epoch 13/90\n",
      "14/14 [==============================] - 0s 692us/step - loss: 0.6153 - accuracy: 0.6900\n",
      "Epoch 14/90\n",
      "14/14 [==============================] - 0s 692us/step - loss: 0.6081 - accuracy: 0.6900\n",
      "Epoch 15/90\n",
      "14/14 [==============================] - 0s 692us/step - loss: 0.6027 - accuracy: 0.6900\n",
      "Epoch 16/90\n",
      "14/14 [==============================] - 0s 616us/step - loss: 0.5981 - accuracy: 0.6900\n",
      "Epoch 17/90\n",
      "14/14 [==============================] - 0s 616us/step - loss: 0.5954 - accuracy: 0.6900\n",
      "Epoch 18/90\n",
      "14/14 [==============================] - 0s 923us/step - loss: 0.5928 - accuracy: 0.6900\n",
      "Epoch 19/90\n",
      "14/14 [==============================] - 0s 615us/step - loss: 0.5905 - accuracy: 0.6900\n",
      "Epoch 20/90\n",
      "14/14 [==============================] - 0s 616us/step - loss: 0.5883 - accuracy: 0.6900\n",
      "Epoch 21/90\n",
      "14/14 [==============================] - 0s 615us/step - loss: 0.5858 - accuracy: 0.6923\n",
      "Epoch 22/90\n",
      "14/14 [==============================] - 0s 692us/step - loss: 0.5828 - accuracy: 0.6923\n",
      "Epoch 23/90\n",
      "14/14 [==============================] - 0s 692us/step - loss: 0.5807 - accuracy: 0.6946\n",
      "Epoch 24/90\n",
      "14/14 [==============================] - 0s 692us/step - loss: 0.5774 - accuracy: 0.6993\n",
      "Epoch 25/90\n",
      "14/14 [==============================] - 0s 693us/step - loss: 0.5742 - accuracy: 0.7016\n",
      "Epoch 26/90\n",
      "14/14 [==============================] - 0s 692us/step - loss: 0.5716 - accuracy: 0.7016\n",
      "Epoch 27/90\n",
      "14/14 [==============================] - 0s 692us/step - loss: 0.5684 - accuracy: 0.7086\n",
      "Epoch 28/90\n",
      "14/14 [==============================] - 0s 615us/step - loss: 0.5638 - accuracy: 0.7156\n",
      "Epoch 29/90\n",
      "14/14 [==============================] - 0s 692us/step - loss: 0.5595 - accuracy: 0.7273\n",
      "Epoch 30/90\n",
      "14/14 [==============================] - 0s 769us/step - loss: 0.5545 - accuracy: 0.7319\n",
      "Epoch 31/90\n",
      "14/14 [==============================] - 0s 692us/step - loss: 0.5500 - accuracy: 0.7483\n",
      "Epoch 32/90\n",
      "14/14 [==============================] - 0s 692us/step - loss: 0.5446 - accuracy: 0.7576\n",
      "Epoch 33/90\n",
      "14/14 [==============================] - 0s 692us/step - loss: 0.5388 - accuracy: 0.7622\n",
      "Epoch 34/90\n",
      "14/14 [==============================] - 0s 692us/step - loss: 0.5337 - accuracy: 0.7739\n",
      "Epoch 35/90\n",
      "14/14 [==============================] - 0s 692us/step - loss: 0.5291 - accuracy: 0.7762\n",
      "Epoch 36/90\n",
      "14/14 [==============================] - 0s 692us/step - loss: 0.5256 - accuracy: 0.7809\n",
      "Epoch 37/90\n",
      "14/14 [==============================] - 0s 692us/step - loss: 0.5215 - accuracy: 0.7809\n",
      "Epoch 38/90\n",
      "14/14 [==============================] - 0s 615us/step - loss: 0.5182 - accuracy: 0.7832\n",
      "Epoch 39/90\n",
      "14/14 [==============================] - 0s 616us/step - loss: 0.5162 - accuracy: 0.7832\n",
      "Epoch 40/90\n",
      "14/14 [==============================] - 0s 692us/step - loss: 0.5134 - accuracy: 0.7855\n",
      "Epoch 41/90\n",
      "14/14 [==============================] - 0s 692us/step - loss: 0.5114 - accuracy: 0.7902\n",
      "Epoch 42/90\n",
      "14/14 [==============================] - 0s 692us/step - loss: 0.5098 - accuracy: 0.7902\n",
      "Epoch 43/90\n",
      "14/14 [==============================] - 0s 692us/step - loss: 0.5078 - accuracy: 0.7902\n",
      "Epoch 44/90\n",
      "14/14 [==============================] - 0s 692us/step - loss: 0.5070 - accuracy: 0.7902\n",
      "Epoch 45/90\n",
      "14/14 [==============================] - 0s 692us/step - loss: 0.5050 - accuracy: 0.7902\n",
      "Epoch 46/90\n",
      "14/14 [==============================] - 0s 693us/step - loss: 0.5041 - accuracy: 0.7902\n",
      "Epoch 47/90\n",
      "14/14 [==============================] - 0s 769us/step - loss: 0.5030 - accuracy: 0.7902\n",
      "Epoch 48/90\n",
      "14/14 [==============================] - 0s 693us/step - loss: 0.5021 - accuracy: 0.7902\n",
      "Epoch 49/90\n",
      "14/14 [==============================] - 0s 692us/step - loss: 0.5011 - accuracy: 0.7902\n",
      "Epoch 50/90\n",
      "14/14 [==============================] - 0s 692us/step - loss: 0.5004 - accuracy: 0.7902\n",
      "Epoch 51/90\n",
      "14/14 [==============================] - 0s 693us/step - loss: 0.4992 - accuracy: 0.7902\n",
      "Epoch 52/90\n",
      "14/14 [==============================] - 0s 692us/step - loss: 0.4989 - accuracy: 0.7902\n",
      "Epoch 53/90\n",
      "14/14 [==============================] - 0s 692us/step - loss: 0.4979 - accuracy: 0.7902\n",
      "Epoch 54/90\n",
      "14/14 [==============================] - 0s 692us/step - loss: 0.4982 - accuracy: 0.7902\n",
      "Epoch 55/90\n",
      "14/14 [==============================] - 0s 692us/step - loss: 0.4971 - accuracy: 0.7902\n",
      "Epoch 56/90\n",
      "14/14 [==============================] - 0s 692us/step - loss: 0.4967 - accuracy: 0.7902\n",
      "Epoch 57/90\n",
      "14/14 [==============================] - 0s 692us/step - loss: 0.4960 - accuracy: 0.7902\n",
      "Epoch 58/90\n",
      "14/14 [==============================] - 0s 692us/step - loss: 0.4960 - accuracy: 0.7902\n",
      "Epoch 59/90\n",
      "14/14 [==============================] - 0s 692us/step - loss: 0.4957 - accuracy: 0.7902\n",
      "Epoch 60/90\n",
      "14/14 [==============================] - 0s 692us/step - loss: 0.4947 - accuracy: 0.7902\n",
      "Epoch 61/90\n",
      "14/14 [==============================] - 0s 692us/step - loss: 0.4947 - accuracy: 0.7902\n",
      "Epoch 62/90\n",
      "14/14 [==============================] - 0s 692us/step - loss: 0.4941 - accuracy: 0.7902\n",
      "Epoch 63/90\n",
      "14/14 [==============================] - 0s 616us/step - loss: 0.4945 - accuracy: 0.7925\n",
      "Epoch 64/90\n",
      "14/14 [==============================] - 0s 615us/step - loss: 0.4937 - accuracy: 0.7925\n",
      "Epoch 65/90\n",
      "14/14 [==============================] - 0s 692us/step - loss: 0.4934 - accuracy: 0.7902\n",
      "Epoch 66/90\n",
      "14/14 [==============================] - 0s 615us/step - loss: 0.4933 - accuracy: 0.7925\n",
      "Epoch 67/90\n",
      "14/14 [==============================] - 0s 692us/step - loss: 0.4931 - accuracy: 0.7925\n",
      "Epoch 68/90\n",
      "14/14 [==============================] - 0s 692us/step - loss: 0.4941 - accuracy: 0.7902\n",
      "Epoch 69/90\n",
      "14/14 [==============================] - 0s 692us/step - loss: 0.4928 - accuracy: 0.7902\n",
      "Epoch 70/90\n",
      "14/14 [==============================] - 0s 692us/step - loss: 0.4924 - accuracy: 0.7925\n",
      "Epoch 71/90\n",
      "14/14 [==============================] - 0s 692us/step - loss: 0.4922 - accuracy: 0.7925\n",
      "Epoch 72/90\n",
      "14/14 [==============================] - 0s 616us/step - loss: 0.4922 - accuracy: 0.7925\n",
      "Epoch 73/90\n",
      "14/14 [==============================] - 0s 615us/step - loss: 0.4918 - accuracy: 0.7925\n",
      "Epoch 74/90\n",
      "14/14 [==============================] - 0s 615us/step - loss: 0.4922 - accuracy: 0.7925\n",
      "Epoch 75/90\n",
      "14/14 [==============================] - 0s 692us/step - loss: 0.4920 - accuracy: 0.7925\n",
      "Epoch 76/90\n",
      "14/14 [==============================] - 0s 692us/step - loss: 0.4924 - accuracy: 0.7925\n",
      "Epoch 77/90\n",
      "14/14 [==============================] - 0s 692us/step - loss: 0.4915 - accuracy: 0.7925\n",
      "Epoch 78/90\n",
      "14/14 [==============================] - 0s 692us/step - loss: 0.4917 - accuracy: 0.7925\n",
      "Epoch 79/90\n",
      "14/14 [==============================] - 0s 615us/step - loss: 0.4909 - accuracy: 0.7925\n",
      "Epoch 80/90\n",
      "14/14 [==============================] - 0s 615us/step - loss: 0.4906 - accuracy: 0.7925\n",
      "Epoch 81/90\n",
      "14/14 [==============================] - 0s 616us/step - loss: 0.4908 - accuracy: 0.7925\n",
      "Epoch 82/90\n",
      "14/14 [==============================] - 0s 615us/step - loss: 0.4905 - accuracy: 0.7925\n",
      "Epoch 83/90\n",
      "14/14 [==============================] - 0s 692us/step - loss: 0.4905 - accuracy: 0.7925\n",
      "Epoch 84/90\n",
      "14/14 [==============================] - 0s 692us/step - loss: 0.4901 - accuracy: 0.7925\n",
      "Epoch 85/90\n",
      "14/14 [==============================] - 0s 616us/step - loss: 0.4902 - accuracy: 0.7925\n",
      "Epoch 86/90\n",
      "14/14 [==============================] - 0s 615us/step - loss: 0.4900 - accuracy: 0.7925\n",
      "Epoch 87/90\n",
      "14/14 [==============================] - 0s 692us/step - loss: 0.4899 - accuracy: 0.7925\n",
      "Epoch 88/90\n",
      "14/14 [==============================] - 0s 692us/step - loss: 0.4900 - accuracy: 0.7949\n",
      "Epoch 89/90\n",
      "14/14 [==============================] - 0s 616us/step - loss: 0.4909 - accuracy: 0.7925\n",
      "Epoch 90/90\n",
      "14/14 [==============================] - 0s 616us/step - loss: 0.4906 - accuracy: 0.7925\n"
     ]
    }
   ],
   "source": [
    "model_history = model.fit(X_train, y_train, epochs = 90)"
   ]
  },
  {
   "cell_type": "code",
   "execution_count": 40,
   "id": "4050dc6f",
   "metadata": {},
   "outputs": [
    {
     "name": "stdout",
     "output_type": "stream",
     "text": [
      "WARNING:tensorflow:Model was constructed with shape (None, None, 9) for input KerasTensor(type_spec=TensorSpec(shape=(None, None, 9), dtype=tf.float32, name='input_1'), name='input_1', description=\"created by layer 'input_1'\"), but it was called on an input with incompatible shape (None, 9).\n",
      "6/6 [==============================] - 0s 600us/step\n",
      "Accuracy_Score : 85.4054054054054\n"
     ]
    }
   ],
   "source": [
    "y_pred = model.predict(X_test)\n",
    "y_pred = np.round(y_pred).astype(int)\n",
    "# Getting accuracy score1\n",
    "from sklearn.metrics import accuracy_score\n",
    "print(\"Accuracy_Score : {}\".format(accuracy_score(y_pred, y_test) * 100))"
   ]
  },
  {
   "cell_type": "code",
   "execution_count": 41,
   "id": "d133da83",
   "metadata": {},
   "outputs": [
    {
     "data": {
      "text/plain": [
       "<function matplotlib.pyplot.show(close=None, block=None)>"
      ]
     },
     "execution_count": 41,
     "metadata": {},
     "output_type": "execute_result"
    },
    {
     "data": {
      "image/png": "[encoded data removed]",
      "text/plain": [
       "<Figure size 432x288 with 1 Axes>"
      ]
     },
     "metadata": {
      "needs_background": "light"
     },
     "output_type": "display_data"
    }
   ],
   "source": [
    "#summarize history of loss\n",
    "import matplotlib.pyplot as plt\n",
    "plt.plot( model_history.history[\"loss\"])\n",
    "plt.title(\"Models loss\")\n",
    "plt.ylabel('Loss')\n",
    "plt.xlabel('No of Epochs')\n",
    "plt.legend(['Train'], loc='upper left',bbox_to_anchor = (1,1))\n",
    "plt.show\n"
   ]
  },
  {
   "cell_type": "code",
   "execution_count": 42,
   "id": "07d9ef29",
   "metadata": {},
   "outputs": [
    {
     "data": {
      "text/plain": [
       "<function matplotlib.pyplot.show(close=None, block=None)>"
      ]
     },
     "execution_count": 42,
     "metadata": {},
     "output_type": "execute_result"
    },
    {
     "data": {
      "image/png": "[encoded data removed]",
      "text/plain": [
       "<Figure size 432x288 with 1 Axes>"
      ]
     },
     "metadata": {
      "needs_background": "light"
     },
     "output_type": "display_data"
    }
   ],
   "source": [
    "#summarize history of Accuracy\n",
    "plt.plot( model_history.history[\"accuracy\"])\n",
    "plt.title(\"Models loss\")\n",
    "plt.ylabel('Accuracy')\n",
    "plt.xlabel('No of Epochs')\n",
    "plt.legend(['Train'], loc='upper left',bbox_to_anchor = (1,1))\n",
    "plt.show"
   ]
  },
  {
   "cell_type": "code",
   "execution_count": 43,
   "id": "2b32a6cc",
   "metadata": {},
   "outputs": [
    {
     "name": "stdout",
     "output_type": "stream",
     "text": [
      "Model: \"sequential\"\n",
      "_________________________________________________________________\n",
      " Layer (type)                Output Shape              Param #   \n",
      "=================================================================\n",
      " dense (Dense)               (None, None, 10)          100       \n",
      "                                                                 \n",
      " dense_1 (Dense)             (None, None, 5)           55        \n",
      "                                                                 \n",
      " dense_2 (Dense)             (None, None, 1)           6         \n",
      "                                                                 \n",
      "=================================================================\n",
      "Total params: 161\n",
      "Trainable params: 161\n",
      "Non-trainable params: 0\n",
      "_________________________________________________________________\n"
     ]
    }
   ],
   "source": [
    "model.summary()"
   ]
  }
 ],
 "metadata": {
  "kernelspec": {
   "display_name": "Python 3 (ipykernel)",
   "language": "python",
   "name": "python3"
  },
  "language_info": {
   "codemirror_mode": {
    "name": "ipython",
    "version": 3
   },
   "file_extension": ".py",
   "mimetype": "text/x-python",
   "name": "python",
   "nbconvert_exporter": "python",
   "pygments_lexer": "ipython3",
   "version": "3.9.13"
  }
 },
 "nbformat": 4,
 "nbformat_minor": 5
}
